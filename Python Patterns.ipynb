{
 "cells": [
  {
   "cell_type": "markdown",
   "id": "113d9f5b",
   "metadata": {},
   "source": [
    "# Patterns in Python\n"
   ]
  },
  {
   "cell_type": "markdown",
   "id": "99fbf166",
   "metadata": {},
   "source": [
    "# Left Triangle Star Pattern In Python"
   ]
  },
  {
   "cell_type": "code",
   "execution_count": 3,
   "id": "2427e890",
   "metadata": {},
   "outputs": [
    {
     "name": "stdout",
     "output_type": "stream",
     "text": [
      "enter the number of rows5\n",
      "* \n",
      "* * \n",
      "* * * \n",
      "* * * * \n",
      "* * * * * \n"
     ]
    }
   ],
   "source": [
    "rows = int(input(\"enter the number of rows\"))\n",
    "\n",
    "for i in range(rows):\n",
    "    for j in range(i+1):\n",
    "        print(\"*\",end=\" \")\n",
    "    print() #for the new line after each j iteration."
   ]
  },
  {
   "cell_type": "markdown",
   "id": "dc9f12e8",
   "metadata": {},
   "source": [
    "# or\n"
   ]
  },
  {
   "cell_type": "code",
   "execution_count": 4,
   "id": "1b5854d6",
   "metadata": {},
   "outputs": [
    {
     "name": "stdout",
     "output_type": "stream",
     "text": [
      "enter the number of rows: 5\n",
      "*\n",
      "**\n",
      "***\n",
      "****\n",
      "*****\n"
     ]
    }
   ],
   "source": [
    "rows=int(input(\"enter the number of rows: \"))\n",
    "\n",
    "for i in range(1,rows+1):\n",
    "    \n",
    "    print(\"*\" * i)"
   ]
  },
  {
   "cell_type": "markdown",
   "id": "f0b9a545",
   "metadata": {},
   "source": [
    "#  for printing  * pattern starts from 0 "
   ]
  },
  {
   "cell_type": "markdown",
   "id": "6c5dd9ac",
   "metadata": {},
   "source": [
    "# Leftdownward triangle star pattern"
   ]
  },
  {
   "cell_type": "code",
   "execution_count": 5,
   "id": "b47d7c6f",
   "metadata": {},
   "outputs": [
    {
     "name": "stdout",
     "output_type": "stream",
     "text": [
      "enter the number of rows: 5\n",
      "* * * * * \n",
      "* * * * \n",
      "* * * \n",
      "* * \n",
      "* \n"
     ]
    }
   ],
   "source": [
    "rows=int(input(\"enter the number of rows: \"))\n",
    "for i in range(rows):\n",
    "    for j in range(rows-i):\n",
    "        print(\"*\",end=\" \")\n",
    "    print()\n",
    " "
   ]
  },
  {
   "cell_type": "markdown",
   "id": "2f0e3c94",
   "metadata": {},
   "source": [
    "#             or"
   ]
  },
  {
   "cell_type": "code",
   "execution_count": 6,
   "id": "83cb9a9f",
   "metadata": {},
   "outputs": [
    {
     "name": "stdout",
     "output_type": "stream",
     "text": [
      "*****\n",
      "****\n",
      "***\n",
      "**\n",
      "*\n"
     ]
    }
   ],
   "source": [
    " # downward triangle star pattern\n",
    "n = 5\n",
    "for i in range(n):\n",
    "    print('*' * (n - i))"
   ]
  },
  {
   "cell_type": "code",
   "execution_count": null,
   "id": "84bd256a",
   "metadata": {},
   "outputs": [],
   "source": []
  },
  {
   "cell_type": "markdown",
   "id": "8fa7de14",
   "metadata": {},
   "source": [
    "# Right Triangle Star Pattern "
   ]
  },
  {
   "cell_type": "markdown",
   "id": "5839e299",
   "metadata": {},
   "source": [
    "# Subtract total no.of stars andd total rows\n",
    "                            * \n",
    "                          * * \n",
    "                        * * * \n",
    "                      * * * * \n",
    "                    * * * * *\n",
    "\n",
    " If i find no.of spaces then i can find no.of stars by subtracting number of ->| rows - Spaces= no.of stars | or\n",
    " |no.of Spaces = no.of stars - no.of rows | -> spaces = rows - (i+1)-> spaces = rows -(i+1)\n",
    "  \n",
    "   i//\n",
    "   \n",
    "   |                  Spaces = rows-(i+1)\n",
    "   \n",
    "    0-> _ _ _ * (1) -> Spaces = 4 -(0+1) -> 4-1 -> 3 (so, we got 3 spaces.)\n",
    "    1-> _ _ * * (2) -> Spaces = 4 -(1+1) -> 4-2 -> 2 (so, we got 2 spaces.)\n",
    "    2-> _ * * * (3) -> Spaces = 4 -(2+1) -> 4-3 -> 1 (so, we got 1 spaces.)\n",
    "    3-> * * * * (4) -> Spaces = 4 -(1+1) -> 4-4 -> 0 (so, we got 0 spaces.)\n",
    "   \n",
    "    no.of rows=4\n",
    "    size of each row = 4\n",
    "   \n",
    "    * each rows yokka stars = i + 1   #(row=0 ->has 1 *)\n",
    "    * no.of stars = no.of rows - spaces    (or) no.of spaces= no.of rows - no.of stars   \n",
    "    "
   ]
  },
  {
   "cell_type": "code",
   "execution_count": 7,
   "id": "22992347",
   "metadata": {},
   "outputs": [
    {
     "name": "stdout",
     "output_type": "stream",
     "text": [
      "Enter the number of rows: 5\n",
      "        * \n",
      "      * * \n",
      "    * * * \n",
      "  * * * * \n",
      "* * * * * \n"
     ]
    }
   ],
   "source": [
    "rows = int(input(\"Enter the number of rows: \"))\n",
    "\n",
    "for i in range(rows):\n",
    "    for j in range(rows-(i+1)):  #for spaces. So, rows -(i+1)\n",
    "        print(\" \",end=\" \")\n",
    "    \n",
    "    for k in range(i+1):  #for stars of each row -> i+1\n",
    "        print(\"*\",end=\" \")\n",
    "    print()"
   ]
  },
  {
   "cell_type": "code",
   "execution_count": 8,
   "id": "086fd880",
   "metadata": {},
   "outputs": [
    {
     "name": "stdout",
     "output_type": "stream",
     "text": [
      "enter the number of rows: 5\n",
      "    *\n",
      "   **\n",
      "  ***\n",
      " ****\n",
      "*****\n"
     ]
    }
   ],
   "source": [
    "rows=int(input(\"enter the number of rows: \"))\n",
    "\n",
    "for i in range(rows):\n",
    "    \n",
    "      #for spaces               #for stars\n",
    "    print(\" \" * (rows-(i+1))  +  \"*\" * (i+1) )"
   ]
  },
  {
   "cell_type": "markdown",
   "id": "589b28fb",
   "metadata": {},
   "source": [
    "# Right Downward Triangle Pattern\n",
    "\n",
    "                        *****\n",
    "                         ****\n",
    "                          ***\n",
    "                           **\n",
    "                            *\n",
    "\n",
    "    Stars: \n",
    "    \n",
    "     0-> * * * *  (4 stars) -> stars= 4->(rows-i) -> 4-0 = 4stars\n",
    "     1-> _ * * *  (3 stars) -> stars= 3->(rows-i) -> 4-1 = 3 stars\n",
    "     2-> _ _ * *  (2 stars) -> stars= 2->(rows-i) -> 4-2 = 2 stars\n",
    "     3-> _ _ _ *  (1 star)  -> stars= 1->(rows-i) -> 4-3 -> 1 (so, we got 1 star)\n",
    "    \n",
    "    Spaces:\n",
    "    \n",
    "    0th rows ki 0 stars -> i values (when i=0 , Spaces=0)\n",
    "    \n"
   ]
  },
  {
   "cell_type": "code",
   "execution_count": 9,
   "id": "39354e61",
   "metadata": {},
   "outputs": [
    {
     "name": "stdout",
     "output_type": "stream",
     "text": [
      "enter the numner of rows: 5\n",
      "* * * * * \n",
      "  * * * * \n",
      "    * * * \n",
      "      * * \n",
      "        * \n"
     ]
    }
   ],
   "source": [
    "rows = int(input(\"enter the numner of rows: \"))\n",
    "\n",
    "for i in range(rows):\n",
    "    for j in range(i):\n",
    "        print(\" \",end=\" \")\n",
    "    for j in range(rows-i):\n",
    "        print(\"*\", end=\" \")\n",
    "    \n",
    "    print()"
   ]
  },
  {
   "cell_type": "code",
   "execution_count": 10,
   "id": "903d5e74",
   "metadata": {},
   "outputs": [
    {
     "name": "stdout",
     "output_type": "stream",
     "text": [
      "5\n",
      "* * * * * \n",
      "* * * * * \n",
      "* * * * * \n",
      "* * * * * \n",
      "* * * * * \n"
     ]
    }
   ],
   "source": [
    "#Rows and columns same no.of stars\n",
    "\n",
    "rows=int(input()) \n",
    "for i in range(rows):      #runs from 0 to rows(4)->5-1\n",
    "    for j in range(rows):  #runs from o to rows (4)->5-1\n",
    "        print(\"*\",end=\" \")\n",
    "    print()"
   ]
  },
  {
   "cell_type": "markdown",
   "id": "7cabf829",
   "metadata": {},
   "source": [
    "# or"
   ]
  },
  {
   "cell_type": "code",
   "execution_count": 14,
   "id": "8a47c968",
   "metadata": {},
   "outputs": [
    {
     "name": "stdout",
     "output_type": "stream",
     "text": [
      "5\n",
      "*****\n",
      "*****\n",
      "*****\n",
      "*****\n",
      "*****\n"
     ]
    }
   ],
   "source": [
    "rows=int(input())\n",
    "for i in range(rows):\n",
    "    print(\"*\" * rows)"
   ]
  },
  {
   "cell_type": "code",
   "execution_count": 16,
   "id": "524f1902",
   "metadata": {},
   "outputs": [
    {
     "name": "stdout",
     "output_type": "stream",
     "text": [
      "enter the number of rows: 5\n",
      "* \n",
      "* * \n",
      "* * * \n",
      "* * * * \n",
      "* * * * * \n",
      "enter the number of rows: 5\n",
      "* * * * * \n",
      "* * * * \n",
      "* * * \n",
      "* * \n",
      "* \n",
      "enter the number of rows:5\n",
      "        * \n",
      "      * * \n",
      "    * * * \n",
      "  * * * * \n",
      "* * * * * \n",
      "enter the number of rows: 5\n",
      "* * * * * \n",
      "  * * * * \n",
      "    * * * \n",
      "      * * \n",
      "        * \n",
      "enter the number of rows: 5\n",
      "* * * * * \n",
      "* * * * * \n",
      "* * * * * \n",
      "* * * * * \n",
      "* * * * * \n",
      "enter the number of rows: 5\n",
      "* * * * * \n",
      "* * * * * \n",
      "* * * * * \n",
      "* * * * * \n",
      "* * * * * \n"
     ]
    }
   ],
   "source": [
    "rows=int(input(\"enter the number of rows: \"))\n",
    "for i in range(rows):\n",
    "    for j in range(i+1):\n",
    "        print(\"*\",end=\" \")\n",
    "    print()\n",
    "    \n",
    "rows = int(input(\"enter the number of rows: \"))\n",
    "for i in range(rows):\n",
    "    for j in range(rows-i):\n",
    "        print(\"*\",end=\" \")\n",
    "    print()\n",
    "    \n",
    "rows = int(input(\"enter the number of rows:\"))\n",
    "for i in range(rows):\n",
    "    for j in range(rows-(i+1)):\n",
    "        print(\" \",end=\" \")\n",
    "    for j in range(i+1):\n",
    "        print(\"*\",end=\" \")\n",
    "    print()\n",
    "\n",
    "n = int(input(\"enter the number of rows: \"))\n",
    "for i in range(rows):\n",
    "    for j in range(i):\n",
    "        print(\" \",end=\" \")\n",
    "    for j in range(rows-i):\n",
    "        print(\"*\",end=\" \")\n",
    "    print()\n",
    "    \n",
    "rows=int(input(\"enter the number of rows: \"))\n",
    "\n",
    "for i in range(rows):\n",
    "    for j in range(rows):\n",
    "        print(\"*\" ,end=\" \")\n",
    "    print()\n",
    "    \n",
    "rows=int(input(\"enter the number of rows: \"))\n",
    "\n",
    "for i in range(0,rows):\n",
    "    for j in range(0,rows):\n",
    "        print(\"*\" ,end=\" \")\n",
    "    print()"
   ]
  },
  {
   "cell_type": "code",
   "execution_count": null,
   "id": "a8bc495f",
   "metadata": {},
   "outputs": [],
   "source": []
  },
  {
   "cell_type": "code",
   "execution_count": 17,
   "id": "e74e6994",
   "metadata": {},
   "outputs": [
    {
     "name": "stdout",
     "output_type": "stream",
     "text": [
      "enter the number of rows: 5\n",
      "    * \n",
      "   * * \n",
      "  * * * \n",
      " * * * * \n",
      "* * * * * \n"
     ]
    }
   ],
   "source": [
    "rows=int(input(\"enter the number of rows: \"))\n",
    "\n",
    "for i in range(rows):\n",
    "    \n",
    "    #for spaces               #for stars\n",
    "    print(\" \" * (rows-(i+1))  +  \"* \" * (i+1) )"
   ]
  },
  {
   "cell_type": "markdown",
   "id": "1aa24704",
   "metadata": {},
   "source": [
    "# for printing number(i) or(j) patterns starts from 0 as well as 1:\n"
   ]
  },
  {
   "cell_type": "code",
   "execution_count": 18,
   "id": "1dfcd883",
   "metadata": {},
   "outputs": [
    {
     "name": "stdout",
     "output_type": "stream",
     "text": [
      "Enter the number of rows: 5\n",
      "0 \n",
      "0 1 \n",
      "0 1 2 \n",
      "0 1 2 3 \n",
      "0 1 2 3 4 \n"
     ]
    }
   ],
   "source": [
    "rows=int(input(\"Enter the number of rows: \"))\n",
    "\n",
    "for i in range(rows):\n",
    "    for j in range(i+1):\n",
    "        print(j,end=\" \")\n",
    "    print()"
   ]
  },
  {
   "cell_type": "code",
   "execution_count": 19,
   "id": "6bd14556-90f8-4198-a8b3-f983a60e6a4d",
   "metadata": {},
   "outputs": [
    {
     "name": "stdout",
     "output_type": "stream",
     "text": [
      "enter the number of rows: 5\n",
      "1 \n",
      "1 2 \n",
      "1 2 3 \n",
      "1 2 3 4 \n",
      "1 2 3 4 5 \n"
     ]
    }
   ],
   "source": [
    "rows=int(input(\"enter the number of rows: \"))\n",
    "\n",
    "for i in range(1,rows+1):\n",
    "    for j in range(1,i+1):\n",
    "        print(j,end=\" \")\n",
    "    print()"
   ]
  },
  {
   "cell_type": "markdown",
   "id": "bdbe2644",
   "metadata": {},
   "source": [
    "# for printing 1, 121, 12321, 123432 1 pattern"
   ]
  },
  {
   "cell_type": "code",
   "execution_count": 20,
   "id": "030d78d4",
   "metadata": {},
   "outputs": [
    {
     "name": "stdout",
     "output_type": "stream",
     "text": [
      "enter the number of rows: 5\n",
      "0 \n",
      "0 1 \n",
      "0 1 2 1 \n",
      "0 1 2 3 2 1 \n",
      "0 1 2 3 4 3 2 1 \n"
     ]
    }
   ],
   "source": [
    "rows=int(input(\"enter the number of rows: \"))\n",
    "\n",
    "for i in range(rows):\n",
    "    for j in range(i+1):\n",
    "        print(j,end=\" \")\n",
    "    for k in range(i-1,0,-1):\n",
    "        print(k,end=\" \")\n",
    "    print()"
   ]
  },
  {
   "cell_type": "code",
   "execution_count": 21,
   "id": "20b09456",
   "metadata": {},
   "outputs": [
    {
     "name": "stdout",
     "output_type": "stream",
     "text": [
      "enter the number of rows: 5\n",
      "1 \n",
      "1 2 1 \n",
      "1 2 3 2 1 \n",
      "1 2 3 4 3 2 1 \n"
     ]
    }
   ],
   "source": [
    "rows=int(input(\"enter the number of rows: \"))\n",
    "\n",
    "for i in range(1,rows):\n",
    "    for j in range(1,i+1):\n",
    "        print(j,end=\" \")\n",
    "    for k in range(i-1,0,-1):\n",
    "        print(k,end=\" \")\n",
    "    print()"
   ]
  },
  {
   "cell_type": "code",
   "execution_count": 22,
   "id": "0bb2843f",
   "metadata": {},
   "outputs": [
    {
     "name": "stdout",
     "output_type": "stream",
     "text": [
      "enter the number of rows: 5\n",
      "0 1 \n",
      "0 1 2 1 \n",
      "0 1 2 3 2 1 \n",
      "0 1 2 3 4 3 2 1 \n",
      "0 1 2 3 4 5 4 3 2 1 \n"
     ]
    }
   ],
   "source": [
    "rows=int(input(\"enter the number of rows: \"))\n",
    "\n",
    "for i in range(1,rows+1):\n",
    "    for j in range(i+1):\n",
    "        print(j,end=\" \")\n",
    "    for k in range(i-1,0,-1):\n",
    "        print(k,end=\" \")\n",
    "    print()"
   ]
  },
  {
   "cell_type": "code",
   "execution_count": 23,
   "id": "542def84",
   "metadata": {},
   "outputs": [
    {
     "name": "stdout",
     "output_type": "stream",
     "text": [
      "enter the number of rows: 5\n",
      "    * \n",
      "   * * \n",
      "  * * * \n",
      " * * * * \n",
      "* * * * * \n"
     ]
    }
   ],
   "source": [
    "rows=int(input(\"enter the number of rows: \"))\n",
    "\n",
    "for i in range(rows):\n",
    "    \n",
    "    #for spaces               #for stars\n",
    "    print(\" \" * (rows-(i+1))  +  \"* \" * (i+1) )"
   ]
  },
  {
   "cell_type": "code",
   "execution_count": 24,
   "id": "0eba9a0e",
   "metadata": {},
   "outputs": [
    {
     "name": "stdout",
     "output_type": "stream",
     "text": [
      "enter the number of rows: 5\n",
      "         *  \n",
      "       *   *  \n",
      "     *   *   *  \n",
      "   *   *   *   *  \n",
      " *   *   *   *   *  \n"
     ]
    }
   ],
   "source": [
    "rows=int(input(\"enter the number of rows: \"))\n",
    "\n",
    "for i in range(rows):\n",
    "    for j in range(rows-(i+1)):\n",
    "        print(\" \",end=\" \")\n",
    "    for j in range(i+1):\n",
    "        print(\" * \",end=\" \")\n",
    "    print( )\n",
    "                   "
   ]
  },
  {
   "cell_type": "code",
   "execution_count": null,
   "id": "aa0f1162",
   "metadata": {},
   "outputs": [],
   "source": []
  }
 ],
 "metadata": {
  "kernelspec": {
   "display_name": "Python 3 (ipykernel)",
   "language": "python",
   "name": "python3"
  },
  "language_info": {
   "codemirror_mode": {
    "name": "ipython",
    "version": 3
   },
   "file_extension": ".py",
   "mimetype": "text/x-python",
   "name": "python",
   "nbconvert_exporter": "python",
   "pygments_lexer": "ipython3",
   "version": "3.10.9"
  }
 },
 "nbformat": 4,
 "nbformat_minor": 5
}
